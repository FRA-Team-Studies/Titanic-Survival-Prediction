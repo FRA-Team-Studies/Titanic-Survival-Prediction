{
 "cells": [
  {
   "cell_type": "markdown",
   "id": "reverse-stack",
   "metadata": {
    "extensions": {
     "jupyter_dashboards": {
      "version": 1,
      "views": {
       "grid_default": {},
       "report_default": {
        "hidden": true
       }
      }
     }
    }
   },
   "source": [
    "# About"
   ]
  },
  {
   "cell_type": "markdown",
   "id": "premium-motorcycle",
   "metadata": {
    "extensions": {
     "jupyter_dashboards": {
      "version": 1,
      "views": {
       "grid_default": {},
       "report_default": {
        "hidden": true
       }
      }
     }
    }
   },
   "source": [
    "[Date set link](https://www.kaggle.com/c/titanic/data)     \n",
    "[Tutorial link](https://corpocrat.com/2014/08/29/tutorial-titanic-dataset-machine-learning-for-kaggle/)"
   ]
  },
  {
   "cell_type": "markdown",
   "id": "equivalent-phoenix",
   "metadata": {
    "extensions": {
     "jupyter_dashboards": {
      "version": 1,
      "views": {
       "grid_default": {},
       "report_default": {
        "hidden": true
       }
      }
     }
    }
   },
   "source": [
    "### Imports"
   ]
  },
  {
   "cell_type": "code",
   "execution_count": 1,
   "id": "particular-usage",
   "metadata": {
    "ExecuteTime": {
     "end_time": "2021-04-15T15:48:14.189939Z",
     "start_time": "2021-04-15T15:48:12.952098Z"
    },
    "extensions": {
     "jupyter_dashboards": {
      "version": 1,
      "views": {
       "grid_default": {},
       "report_default": {
        "hidden": true
       }
      }
     }
    }
   },
   "outputs": [],
   "source": [
    "import time\n",
    "import collections\n",
    "import warnings\n",
    "\n",
    "import pandas as pd\n",
    "import numpy as np\n",
    "import sklearn\n",
    "import matplotlib.pyplot as plt\n",
    "import matplotlib.patches as mpatches\n",
    "import seaborn as sns\n",
    "\n",
    "import custom_module as mod\n",
    "\n",
    "from sklearn.model_selection import cross_val_score\n",
    "from sklearn.model_selection import train_test_split\n",
    "from sklearn import tree\n",
    "from sklearn import ensemble\n",
    "\n",
    "from IPython.display import display, Markdown, Latex\n",
    "\n",
    "\n",
    "warnings.filterwarnings(\"ignore\")\n",
    "%matplotlib inline"
   ]
  },
  {
   "cell_type": "markdown",
   "id": "annoying-heart",
   "metadata": {
    "extensions": {
     "jupyter_dashboards": {
      "version": 1,
      "views": {
       "grid_default": {},
       "report_default": {
        "hidden": false
       }
      }
     }
    }
   },
   "source": [
    "### Date definition\n",
    "\n",
    "|  Variable |  Definition | Key  | \n",
    "|---|---|---|\n",
    "| survival  |   Survival|  0 = No, 1 = Yes |\n",
    "|  pclass |  Ticket class |  1 = 1st, 2 = 2nd, 3 = 3rd |\n",
    "|  sex |  Sex | Sex  |\n",
    "|  Age |  Age in years | Age in years |\n",
    "|  sibsp |  # of siblings / spouses aboard the Titanic | # of siblings / spouses aboard the Titanic |\n",
    "|  parch |  # of parents / children aboard the Titanic | # of parents / children aboard the Titanic |\n",
    "|  ticket |  Ticket number | Ticket number |\n",
    "|  fare |  Passenger fare | Passenger fare |\n",
    "|  cabin |  Cabin number |  Cabin number |\n",
    "|  embarked |  Port of Embarkation | C = Cherbourg, Q = Queenstown, S = Southampton |"
   ]
  },
  {
   "cell_type": "code",
   "execution_count": 2,
   "id": "secret-amplifier",
   "metadata": {
    "ExecuteTime": {
     "end_time": "2021-04-15T15:48:14.205272Z",
     "start_time": "2021-04-15T15:48:14.190702Z"
    },
    "extensions": {
     "jupyter_dashboards": {
      "version": 1,
      "views": {
       "grid_default": {},
       "report_default": {
        "hidden": true
       }
      }
     }
    }
   },
   "outputs": [],
   "source": [
    "df = pd.read_csv('raw-data/train.csv', header = 0)"
   ]
  },
  {
   "cell_type": "code",
   "execution_count": 3,
   "id": "noble-sigma",
   "metadata": {
    "ExecuteTime": {
     "end_time": "2021-04-15T15:48:14.220192Z",
     "start_time": "2021-04-15T15:48:14.206955Z"
    },
    "extensions": {
     "jupyter_dashboards": {
      "version": 1,
      "views": {
       "grid_default": {},
       "report_default": {
        "hidden": true
       }
      }
     }
    }
   },
   "outputs": [],
   "source": [
    "df = mod.changeColumnNames(df)"
   ]
  },
  {
   "cell_type": "code",
   "execution_count": 4,
   "id": "recorded-consistency",
   "metadata": {
    "ExecuteTime": {
     "end_time": "2021-04-15T15:48:14.251184Z",
     "start_time": "2021-04-15T15:48:14.221193Z"
    },
    "extensions": {
     "jupyter_dashboards": {
      "version": 1,
      "views": {
       "grid_default": {},
       "report_default": {
        "hidden": false
       }
      }
     }
    }
   },
   "outputs": [
    {
     "data": {
      "text/html": [
       "<div>\n",
       "<style scoped>\n",
       "    .dataframe tbody tr th:only-of-type {\n",
       "        vertical-align: middle;\n",
       "    }\n",
       "\n",
       "    .dataframe tbody tr th {\n",
       "        vertical-align: top;\n",
       "    }\n",
       "\n",
       "    .dataframe thead th {\n",
       "        text-align: right;\n",
       "    }\n",
       "</style>\n",
       "<table border=\"1\" class=\"dataframe\">\n",
       "  <thead>\n",
       "    <tr style=\"text-align: right;\">\n",
       "      <th></th>\n",
       "      <th>PASSENGER_ID</th>\n",
       "      <th>SURVIVED</th>\n",
       "      <th>TICKET_CLASS</th>\n",
       "      <th>NAME</th>\n",
       "      <th>SEX</th>\n",
       "      <th>AGE</th>\n",
       "      <th>SIBLING_SPOUSE_ON_BOARD</th>\n",
       "      <th>PARENT_CHILDREN_ON_BOARD</th>\n",
       "      <th>TICKET</th>\n",
       "      <th>FARE</th>\n",
       "      <th>CABIN</th>\n",
       "      <th>EMBARKED</th>\n",
       "    </tr>\n",
       "  </thead>\n",
       "  <tbody>\n",
       "    <tr>\n",
       "      <th>0</th>\n",
       "      <td>1</td>\n",
       "      <td>0</td>\n",
       "      <td>3</td>\n",
       "      <td>Braund, Mr. Owen Harris</td>\n",
       "      <td>male</td>\n",
       "      <td>22.0</td>\n",
       "      <td>1</td>\n",
       "      <td>0</td>\n",
       "      <td>A/5 21171</td>\n",
       "      <td>7.2500</td>\n",
       "      <td>NaN</td>\n",
       "      <td>S</td>\n",
       "    </tr>\n",
       "    <tr>\n",
       "      <th>1</th>\n",
       "      <td>2</td>\n",
       "      <td>1</td>\n",
       "      <td>1</td>\n",
       "      <td>Cumings, Mrs. John Bradley (Florence Briggs Th...</td>\n",
       "      <td>female</td>\n",
       "      <td>38.0</td>\n",
       "      <td>1</td>\n",
       "      <td>0</td>\n",
       "      <td>PC 17599</td>\n",
       "      <td>71.2833</td>\n",
       "      <td>C85</td>\n",
       "      <td>C</td>\n",
       "    </tr>\n",
       "    <tr>\n",
       "      <th>2</th>\n",
       "      <td>3</td>\n",
       "      <td>1</td>\n",
       "      <td>3</td>\n",
       "      <td>Heikkinen, Miss. Laina</td>\n",
       "      <td>female</td>\n",
       "      <td>26.0</td>\n",
       "      <td>0</td>\n",
       "      <td>0</td>\n",
       "      <td>STON/O2. 3101282</td>\n",
       "      <td>7.9250</td>\n",
       "      <td>NaN</td>\n",
       "      <td>S</td>\n",
       "    </tr>\n",
       "    <tr>\n",
       "      <th>3</th>\n",
       "      <td>4</td>\n",
       "      <td>1</td>\n",
       "      <td>1</td>\n",
       "      <td>Futrelle, Mrs. Jacques Heath (Lily May Peel)</td>\n",
       "      <td>female</td>\n",
       "      <td>35.0</td>\n",
       "      <td>1</td>\n",
       "      <td>0</td>\n",
       "      <td>113803</td>\n",
       "      <td>53.1000</td>\n",
       "      <td>C123</td>\n",
       "      <td>S</td>\n",
       "    </tr>\n",
       "    <tr>\n",
       "      <th>4</th>\n",
       "      <td>5</td>\n",
       "      <td>0</td>\n",
       "      <td>3</td>\n",
       "      <td>Allen, Mr. William Henry</td>\n",
       "      <td>male</td>\n",
       "      <td>35.0</td>\n",
       "      <td>0</td>\n",
       "      <td>0</td>\n",
       "      <td>373450</td>\n",
       "      <td>8.0500</td>\n",
       "      <td>NaN</td>\n",
       "      <td>S</td>\n",
       "    </tr>\n",
       "    <tr>\n",
       "      <th>5</th>\n",
       "      <td>6</td>\n",
       "      <td>0</td>\n",
       "      <td>3</td>\n",
       "      <td>Moran, Mr. James</td>\n",
       "      <td>male</td>\n",
       "      <td>NaN</td>\n",
       "      <td>0</td>\n",
       "      <td>0</td>\n",
       "      <td>330877</td>\n",
       "      <td>8.4583</td>\n",
       "      <td>NaN</td>\n",
       "      <td>Q</td>\n",
       "    </tr>\n",
       "    <tr>\n",
       "      <th>6</th>\n",
       "      <td>7</td>\n",
       "      <td>0</td>\n",
       "      <td>1</td>\n",
       "      <td>McCarthy, Mr. Timothy J</td>\n",
       "      <td>male</td>\n",
       "      <td>54.0</td>\n",
       "      <td>0</td>\n",
       "      <td>0</td>\n",
       "      <td>17463</td>\n",
       "      <td>51.8625</td>\n",
       "      <td>E46</td>\n",
       "      <td>S</td>\n",
       "    </tr>\n",
       "    <tr>\n",
       "      <th>7</th>\n",
       "      <td>8</td>\n",
       "      <td>0</td>\n",
       "      <td>3</td>\n",
       "      <td>Palsson, Master. Gosta Leonard</td>\n",
       "      <td>male</td>\n",
       "      <td>2.0</td>\n",
       "      <td>3</td>\n",
       "      <td>1</td>\n",
       "      <td>349909</td>\n",
       "      <td>21.0750</td>\n",
       "      <td>NaN</td>\n",
       "      <td>S</td>\n",
       "    </tr>\n",
       "    <tr>\n",
       "      <th>8</th>\n",
       "      <td>9</td>\n",
       "      <td>1</td>\n",
       "      <td>3</td>\n",
       "      <td>Johnson, Mrs. Oscar W (Elisabeth Vilhelmina Berg)</td>\n",
       "      <td>female</td>\n",
       "      <td>27.0</td>\n",
       "      <td>0</td>\n",
       "      <td>2</td>\n",
       "      <td>347742</td>\n",
       "      <td>11.1333</td>\n",
       "      <td>NaN</td>\n",
       "      <td>S</td>\n",
       "    </tr>\n",
       "    <tr>\n",
       "      <th>9</th>\n",
       "      <td>10</td>\n",
       "      <td>1</td>\n",
       "      <td>2</td>\n",
       "      <td>Nasser, Mrs. Nicholas (Adele Achem)</td>\n",
       "      <td>female</td>\n",
       "      <td>14.0</td>\n",
       "      <td>1</td>\n",
       "      <td>0</td>\n",
       "      <td>237736</td>\n",
       "      <td>30.0708</td>\n",
       "      <td>NaN</td>\n",
       "      <td>C</td>\n",
       "    </tr>\n",
       "    <tr>\n",
       "      <th>10</th>\n",
       "      <td>11</td>\n",
       "      <td>1</td>\n",
       "      <td>3</td>\n",
       "      <td>Sandstrom, Miss. Marguerite Rut</td>\n",
       "      <td>female</td>\n",
       "      <td>4.0</td>\n",
       "      <td>1</td>\n",
       "      <td>1</td>\n",
       "      <td>PP 9549</td>\n",
       "      <td>16.7000</td>\n",
       "      <td>G6</td>\n",
       "      <td>S</td>\n",
       "    </tr>\n",
       "    <tr>\n",
       "      <th>11</th>\n",
       "      <td>12</td>\n",
       "      <td>1</td>\n",
       "      <td>1</td>\n",
       "      <td>Bonnell, Miss. Elizabeth</td>\n",
       "      <td>female</td>\n",
       "      <td>58.0</td>\n",
       "      <td>0</td>\n",
       "      <td>0</td>\n",
       "      <td>113783</td>\n",
       "      <td>26.5500</td>\n",
       "      <td>C103</td>\n",
       "      <td>S</td>\n",
       "    </tr>\n",
       "    <tr>\n",
       "      <th>12</th>\n",
       "      <td>13</td>\n",
       "      <td>0</td>\n",
       "      <td>3</td>\n",
       "      <td>Saundercock, Mr. William Henry</td>\n",
       "      <td>male</td>\n",
       "      <td>20.0</td>\n",
       "      <td>0</td>\n",
       "      <td>0</td>\n",
       "      <td>A/5. 2151</td>\n",
       "      <td>8.0500</td>\n",
       "      <td>NaN</td>\n",
       "      <td>S</td>\n",
       "    </tr>\n",
       "    <tr>\n",
       "      <th>13</th>\n",
       "      <td>14</td>\n",
       "      <td>0</td>\n",
       "      <td>3</td>\n",
       "      <td>Andersson, Mr. Anders Johan</td>\n",
       "      <td>male</td>\n",
       "      <td>39.0</td>\n",
       "      <td>1</td>\n",
       "      <td>5</td>\n",
       "      <td>347082</td>\n",
       "      <td>31.2750</td>\n",
       "      <td>NaN</td>\n",
       "      <td>S</td>\n",
       "    </tr>\n",
       "    <tr>\n",
       "      <th>14</th>\n",
       "      <td>15</td>\n",
       "      <td>0</td>\n",
       "      <td>3</td>\n",
       "      <td>Vestrom, Miss. Hulda Amanda Adolfina</td>\n",
       "      <td>female</td>\n",
       "      <td>14.0</td>\n",
       "      <td>0</td>\n",
       "      <td>0</td>\n",
       "      <td>350406</td>\n",
       "      <td>7.8542</td>\n",
       "      <td>NaN</td>\n",
       "      <td>S</td>\n",
       "    </tr>\n",
       "    <tr>\n",
       "      <th>15</th>\n",
       "      <td>16</td>\n",
       "      <td>1</td>\n",
       "      <td>2</td>\n",
       "      <td>Hewlett, Mrs. (Mary D Kingcome)</td>\n",
       "      <td>female</td>\n",
       "      <td>55.0</td>\n",
       "      <td>0</td>\n",
       "      <td>0</td>\n",
       "      <td>248706</td>\n",
       "      <td>16.0000</td>\n",
       "      <td>NaN</td>\n",
       "      <td>S</td>\n",
       "    </tr>\n",
       "    <tr>\n",
       "      <th>16</th>\n",
       "      <td>17</td>\n",
       "      <td>0</td>\n",
       "      <td>3</td>\n",
       "      <td>Rice, Master. Eugene</td>\n",
       "      <td>male</td>\n",
       "      <td>2.0</td>\n",
       "      <td>4</td>\n",
       "      <td>1</td>\n",
       "      <td>382652</td>\n",
       "      <td>29.1250</td>\n",
       "      <td>NaN</td>\n",
       "      <td>Q</td>\n",
       "    </tr>\n",
       "    <tr>\n",
       "      <th>17</th>\n",
       "      <td>18</td>\n",
       "      <td>1</td>\n",
       "      <td>2</td>\n",
       "      <td>Williams, Mr. Charles Eugene</td>\n",
       "      <td>male</td>\n",
       "      <td>NaN</td>\n",
       "      <td>0</td>\n",
       "      <td>0</td>\n",
       "      <td>244373</td>\n",
       "      <td>13.0000</td>\n",
       "      <td>NaN</td>\n",
       "      <td>S</td>\n",
       "    </tr>\n",
       "    <tr>\n",
       "      <th>18</th>\n",
       "      <td>19</td>\n",
       "      <td>0</td>\n",
       "      <td>3</td>\n",
       "      <td>Vander Planke, Mrs. Julius (Emelia Maria Vande...</td>\n",
       "      <td>female</td>\n",
       "      <td>31.0</td>\n",
       "      <td>1</td>\n",
       "      <td>0</td>\n",
       "      <td>345763</td>\n",
       "      <td>18.0000</td>\n",
       "      <td>NaN</td>\n",
       "      <td>S</td>\n",
       "    </tr>\n",
       "    <tr>\n",
       "      <th>19</th>\n",
       "      <td>20</td>\n",
       "      <td>1</td>\n",
       "      <td>3</td>\n",
       "      <td>Masselmani, Mrs. Fatima</td>\n",
       "      <td>female</td>\n",
       "      <td>NaN</td>\n",
       "      <td>0</td>\n",
       "      <td>0</td>\n",
       "      <td>2649</td>\n",
       "      <td>7.2250</td>\n",
       "      <td>NaN</td>\n",
       "      <td>C</td>\n",
       "    </tr>\n",
       "    <tr>\n",
       "      <th>20</th>\n",
       "      <td>21</td>\n",
       "      <td>0</td>\n",
       "      <td>2</td>\n",
       "      <td>Fynney, Mr. Joseph J</td>\n",
       "      <td>male</td>\n",
       "      <td>35.0</td>\n",
       "      <td>0</td>\n",
       "      <td>0</td>\n",
       "      <td>239865</td>\n",
       "      <td>26.0000</td>\n",
       "      <td>NaN</td>\n",
       "      <td>S</td>\n",
       "    </tr>\n",
       "    <tr>\n",
       "      <th>21</th>\n",
       "      <td>22</td>\n",
       "      <td>1</td>\n",
       "      <td>2</td>\n",
       "      <td>Beesley, Mr. Lawrence</td>\n",
       "      <td>male</td>\n",
       "      <td>34.0</td>\n",
       "      <td>0</td>\n",
       "      <td>0</td>\n",
       "      <td>248698</td>\n",
       "      <td>13.0000</td>\n",
       "      <td>D56</td>\n",
       "      <td>S</td>\n",
       "    </tr>\n",
       "    <tr>\n",
       "      <th>22</th>\n",
       "      <td>23</td>\n",
       "      <td>1</td>\n",
       "      <td>3</td>\n",
       "      <td>McGowan, Miss. Anna \"Annie\"</td>\n",
       "      <td>female</td>\n",
       "      <td>15.0</td>\n",
       "      <td>0</td>\n",
       "      <td>0</td>\n",
       "      <td>330923</td>\n",
       "      <td>8.0292</td>\n",
       "      <td>NaN</td>\n",
       "      <td>Q</td>\n",
       "    </tr>\n",
       "    <tr>\n",
       "      <th>23</th>\n",
       "      <td>24</td>\n",
       "      <td>1</td>\n",
       "      <td>1</td>\n",
       "      <td>Sloper, Mr. William Thompson</td>\n",
       "      <td>male</td>\n",
       "      <td>28.0</td>\n",
       "      <td>0</td>\n",
       "      <td>0</td>\n",
       "      <td>113788</td>\n",
       "      <td>35.5000</td>\n",
       "      <td>A6</td>\n",
       "      <td>S</td>\n",
       "    </tr>\n",
       "    <tr>\n",
       "      <th>24</th>\n",
       "      <td>25</td>\n",
       "      <td>0</td>\n",
       "      <td>3</td>\n",
       "      <td>Palsson, Miss. Torborg Danira</td>\n",
       "      <td>female</td>\n",
       "      <td>8.0</td>\n",
       "      <td>3</td>\n",
       "      <td>1</td>\n",
       "      <td>349909</td>\n",
       "      <td>21.0750</td>\n",
       "      <td>NaN</td>\n",
       "      <td>S</td>\n",
       "    </tr>\n",
       "  </tbody>\n",
       "</table>\n",
       "</div>"
      ],
      "text/plain": [
       "    PASSENGER_ID  SURVIVED  TICKET_CLASS  \\\n",
       "0              1         0             3   \n",
       "1              2         1             1   \n",
       "2              3         1             3   \n",
       "3              4         1             1   \n",
       "4              5         0             3   \n",
       "5              6         0             3   \n",
       "6              7         0             1   \n",
       "7              8         0             3   \n",
       "8              9         1             3   \n",
       "9             10         1             2   \n",
       "10            11         1             3   \n",
       "11            12         1             1   \n",
       "12            13         0             3   \n",
       "13            14         0             3   \n",
       "14            15         0             3   \n",
       "15            16         1             2   \n",
       "16            17         0             3   \n",
       "17            18         1             2   \n",
       "18            19         0             3   \n",
       "19            20         1             3   \n",
       "20            21         0             2   \n",
       "21            22         1             2   \n",
       "22            23         1             3   \n",
       "23            24         1             1   \n",
       "24            25         0             3   \n",
       "\n",
       "                                                 NAME     SEX   AGE  \\\n",
       "0                             Braund, Mr. Owen Harris    male  22.0   \n",
       "1   Cumings, Mrs. John Bradley (Florence Briggs Th...  female  38.0   \n",
       "2                              Heikkinen, Miss. Laina  female  26.0   \n",
       "3        Futrelle, Mrs. Jacques Heath (Lily May Peel)  female  35.0   \n",
       "4                            Allen, Mr. William Henry    male  35.0   \n",
       "5                                    Moran, Mr. James    male   NaN   \n",
       "6                             McCarthy, Mr. Timothy J    male  54.0   \n",
       "7                      Palsson, Master. Gosta Leonard    male   2.0   \n",
       "8   Johnson, Mrs. Oscar W (Elisabeth Vilhelmina Berg)  female  27.0   \n",
       "9                 Nasser, Mrs. Nicholas (Adele Achem)  female  14.0   \n",
       "10                    Sandstrom, Miss. Marguerite Rut  female   4.0   \n",
       "11                           Bonnell, Miss. Elizabeth  female  58.0   \n",
       "12                     Saundercock, Mr. William Henry    male  20.0   \n",
       "13                        Andersson, Mr. Anders Johan    male  39.0   \n",
       "14               Vestrom, Miss. Hulda Amanda Adolfina  female  14.0   \n",
       "15                   Hewlett, Mrs. (Mary D Kingcome)   female  55.0   \n",
       "16                               Rice, Master. Eugene    male   2.0   \n",
       "17                       Williams, Mr. Charles Eugene    male   NaN   \n",
       "18  Vander Planke, Mrs. Julius (Emelia Maria Vande...  female  31.0   \n",
       "19                            Masselmani, Mrs. Fatima  female   NaN   \n",
       "20                               Fynney, Mr. Joseph J    male  35.0   \n",
       "21                              Beesley, Mr. Lawrence    male  34.0   \n",
       "22                        McGowan, Miss. Anna \"Annie\"  female  15.0   \n",
       "23                       Sloper, Mr. William Thompson    male  28.0   \n",
       "24                      Palsson, Miss. Torborg Danira  female   8.0   \n",
       "\n",
       "    SIBLING_SPOUSE_ON_BOARD  PARENT_CHILDREN_ON_BOARD            TICKET  \\\n",
       "0                         1                         0         A/5 21171   \n",
       "1                         1                         0          PC 17599   \n",
       "2                         0                         0  STON/O2. 3101282   \n",
       "3                         1                         0            113803   \n",
       "4                         0                         0            373450   \n",
       "5                         0                         0            330877   \n",
       "6                         0                         0             17463   \n",
       "7                         3                         1            349909   \n",
       "8                         0                         2            347742   \n",
       "9                         1                         0            237736   \n",
       "10                        1                         1           PP 9549   \n",
       "11                        0                         0            113783   \n",
       "12                        0                         0         A/5. 2151   \n",
       "13                        1                         5            347082   \n",
       "14                        0                         0            350406   \n",
       "15                        0                         0            248706   \n",
       "16                        4                         1            382652   \n",
       "17                        0                         0            244373   \n",
       "18                        1                         0            345763   \n",
       "19                        0                         0              2649   \n",
       "20                        0                         0            239865   \n",
       "21                        0                         0            248698   \n",
       "22                        0                         0            330923   \n",
       "23                        0                         0            113788   \n",
       "24                        3                         1            349909   \n",
       "\n",
       "       FARE CABIN EMBARKED  \n",
       "0    7.2500   NaN        S  \n",
       "1   71.2833   C85        C  \n",
       "2    7.9250   NaN        S  \n",
       "3   53.1000  C123        S  \n",
       "4    8.0500   NaN        S  \n",
       "5    8.4583   NaN        Q  \n",
       "6   51.8625   E46        S  \n",
       "7   21.0750   NaN        S  \n",
       "8   11.1333   NaN        S  \n",
       "9   30.0708   NaN        C  \n",
       "10  16.7000    G6        S  \n",
       "11  26.5500  C103        S  \n",
       "12   8.0500   NaN        S  \n",
       "13  31.2750   NaN        S  \n",
       "14   7.8542   NaN        S  \n",
       "15  16.0000   NaN        S  \n",
       "16  29.1250   NaN        Q  \n",
       "17  13.0000   NaN        S  \n",
       "18  18.0000   NaN        S  \n",
       "19   7.2250   NaN        C  \n",
       "20  26.0000   NaN        S  \n",
       "21  13.0000   D56        S  \n",
       "22   8.0292   NaN        Q  \n",
       "23  35.5000    A6        S  \n",
       "24  21.0750   NaN        S  "
      ]
     },
     "execution_count": 4,
     "metadata": {},
     "output_type": "execute_result"
    }
   ],
   "source": [
    "df.head(25)"
   ]
  },
  {
   "cell_type": "code",
   "execution_count": 19,
   "id": "turkish-hybrid",
   "metadata": {
    "ExecuteTime": {
     "end_time": "2021-04-15T15:49:18.636475Z",
     "start_time": "2021-04-15T15:49:18.622525Z"
    },
    "extensions": {
     "jupyter_dashboards": {
      "version": 1,
      "views": {
       "grid_default": {},
       "report_default": {
        "hidden": false
       }
      }
     }
    }
   },
   "outputs": [
    {
     "name": "stdout",
     "output_type": "stream",
     "text": [
      "<class 'pandas.core.frame.DataFrame'>\n",
      "Int64Index: 712 entries, 0 to 890\n",
      "Data columns (total 14 columns):\n",
      " #   Column                    Non-Null Count  Dtype  \n",
      "---  ------                    --------------  -----  \n",
      " 0   PASSENGER_ID              712 non-null    int64  \n",
      " 1   SURVIVED                  712 non-null    int64  \n",
      " 2   AGE                       712 non-null    float64\n",
      " 3   SIBLING_SPOUSE_ON_BOARD   712 non-null    int64  \n",
      " 4   PARENT_CHILDREN_ON_BOARD  712 non-null    int64  \n",
      " 5   FARE                      712 non-null    float64\n",
      " 6   TICKET_CLASS__1           712 non-null    uint8  \n",
      " 7   TICKET_CLASS__2           712 non-null    uint8  \n",
      " 8   TICKET_CLASS__3           712 non-null    uint8  \n",
      " 9   SEX__female               712 non-null    uint8  \n",
      " 10  SEX__male                 712 non-null    uint8  \n",
      " 11  EMBARKED__C               712 non-null    uint8  \n",
      " 12  EMBARKED__Q               712 non-null    uint8  \n",
      " 13  EMBARKED__S               712 non-null    uint8  \n",
      "dtypes: float64(2), int64(4), uint8(8)\n",
      "memory usage: 44.5 KB\n"
     ]
    },
    {
     "data": {
      "text/plain": [
       "None"
      ]
     },
     "metadata": {},
     "output_type": "display_data"
    }
   ],
   "source": [
    "display(df.info())"
   ]
  },
  {
   "cell_type": "code",
   "execution_count": 6,
   "id": "inner-accountability",
   "metadata": {
    "ExecuteTime": {
     "end_time": "2021-04-15T15:48:14.283084Z",
     "start_time": "2021-04-15T15:48:14.268136Z"
    },
    "extensions": {
     "jupyter_dashboards": {
      "version": 1,
      "views": {
       "grid_default": {},
       "report_default": {
        "hidden": true
       }
      }
     }
    }
   },
   "outputs": [],
   "source": [
    "cols = ['NAME','TICKET','CABIN']\n",
    "df = df.drop(cols, axis = 1)"
   ]
  },
  {
   "cell_type": "code",
   "execution_count": 7,
   "id": "overhead-ozone",
   "metadata": {
    "ExecuteTime": {
     "end_time": "2021-04-15T15:48:14.313342Z",
     "start_time": "2021-04-15T15:48:14.284074Z"
    },
    "extensions": {
     "jupyter_dashboards": {
      "version": 1,
      "views": {
       "grid_default": {},
       "report_default": {
        "hidden": true
       }
      }
     }
    }
   },
   "outputs": [],
   "source": [
    "df = mod.process(df)"
   ]
  },
  {
   "cell_type": "code",
   "execution_count": 8,
   "id": "specific-grove",
   "metadata": {
    "ExecuteTime": {
     "end_time": "2021-04-15T15:48:14.344861Z",
     "start_time": "2021-04-15T15:48:14.314838Z"
    },
    "extensions": {
     "jupyter_dashboards": {
      "version": 1,
      "views": {
       "grid_default": {},
       "report_default": {
        "hidden": false
       }
      }
     }
    }
   },
   "outputs": [
    {
     "data": {
      "text/html": [
       "<div>\n",
       "<style scoped>\n",
       "    .dataframe tbody tr th:only-of-type {\n",
       "        vertical-align: middle;\n",
       "    }\n",
       "\n",
       "    .dataframe tbody tr th {\n",
       "        vertical-align: top;\n",
       "    }\n",
       "\n",
       "    .dataframe thead th {\n",
       "        text-align: right;\n",
       "    }\n",
       "</style>\n",
       "<table border=\"1\" class=\"dataframe\">\n",
       "  <thead>\n",
       "    <tr style=\"text-align: right;\">\n",
       "      <th></th>\n",
       "      <th>PASSENGER_ID</th>\n",
       "      <th>SURVIVED</th>\n",
       "      <th>AGE</th>\n",
       "      <th>SIBLING_SPOUSE_ON_BOARD</th>\n",
       "      <th>PARENT_CHILDREN_ON_BOARD</th>\n",
       "      <th>FARE</th>\n",
       "      <th>TICKET_CLASS__1</th>\n",
       "      <th>TICKET_CLASS__2</th>\n",
       "      <th>TICKET_CLASS__3</th>\n",
       "      <th>SEX__female</th>\n",
       "      <th>SEX__male</th>\n",
       "      <th>EMBARKED__C</th>\n",
       "      <th>EMBARKED__Q</th>\n",
       "      <th>EMBARKED__S</th>\n",
       "    </tr>\n",
       "  </thead>\n",
       "  <tbody>\n",
       "    <tr>\n",
       "      <th>PASSENGER_ID</th>\n",
       "      <td>1.000000</td>\n",
       "      <td>0.029526</td>\n",
       "      <td>0.033681</td>\n",
       "      <td>-0.082704</td>\n",
       "      <td>-0.011672</td>\n",
       "      <td>0.009655</td>\n",
       "      <td>0.035551</td>\n",
       "      <td>-0.003142</td>\n",
       "      <td>-0.028431</td>\n",
       "      <td>-0.024674</td>\n",
       "      <td>0.024674</td>\n",
       "      <td>0.008654</td>\n",
       "      <td>-0.027045</td>\n",
       "      <td>0.004605</td>\n",
       "    </tr>\n",
       "    <tr>\n",
       "      <th>SURVIVED</th>\n",
       "      <td>0.029526</td>\n",
       "      <td>1.000000</td>\n",
       "      <td>-0.082446</td>\n",
       "      <td>-0.015523</td>\n",
       "      <td>0.095265</td>\n",
       "      <td>0.266100</td>\n",
       "      <td>0.297908</td>\n",
       "      <td>0.086891</td>\n",
       "      <td>-0.335364</td>\n",
       "      <td>0.536762</td>\n",
       "      <td>-0.536762</td>\n",
       "      <td>0.195673</td>\n",
       "      <td>-0.048966</td>\n",
       "      <td>-0.159015</td>\n",
       "    </tr>\n",
       "    <tr>\n",
       "      <th>AGE</th>\n",
       "      <td>0.033681</td>\n",
       "      <td>-0.082446</td>\n",
       "      <td>1.000000</td>\n",
       "      <td>-0.307351</td>\n",
       "      <td>-0.187896</td>\n",
       "      <td>0.093143</td>\n",
       "      <td>0.344976</td>\n",
       "      <td>0.009214</td>\n",
       "      <td>-0.309944</td>\n",
       "      <td>-0.099037</td>\n",
       "      <td>0.099037</td>\n",
       "      <td>0.038268</td>\n",
       "      <td>-0.021693</td>\n",
       "      <td>-0.025431</td>\n",
       "    </tr>\n",
       "    <tr>\n",
       "      <th>SIBLING_SPOUSE_ON_BOARD</th>\n",
       "      <td>-0.082704</td>\n",
       "      <td>-0.015523</td>\n",
       "      <td>-0.307351</td>\n",
       "      <td>1.000000</td>\n",
       "      <td>0.383338</td>\n",
       "      <td>0.139860</td>\n",
       "      <td>-0.036512</td>\n",
       "      <td>-0.052570</td>\n",
       "      <td>0.077060</td>\n",
       "      <td>0.106296</td>\n",
       "      <td>-0.106296</td>\n",
       "      <td>-0.046227</td>\n",
       "      <td>0.051331</td>\n",
       "      <td>0.018968</td>\n",
       "    </tr>\n",
       "    <tr>\n",
       "      <th>PARENT_CHILDREN_ON_BOARD</th>\n",
       "      <td>-0.011672</td>\n",
       "      <td>0.095265</td>\n",
       "      <td>-0.187896</td>\n",
       "      <td>0.383338</td>\n",
       "      <td>1.000000</td>\n",
       "      <td>0.206624</td>\n",
       "      <td>-0.013514</td>\n",
       "      <td>-0.018558</td>\n",
       "      <td>0.027750</td>\n",
       "      <td>0.249543</td>\n",
       "      <td>-0.249543</td>\n",
       "      <td>-0.009523</td>\n",
       "      <td>-0.009417</td>\n",
       "      <td>0.013259</td>\n",
       "    </tr>\n",
       "    <tr>\n",
       "      <th>FARE</th>\n",
       "      <td>0.009655</td>\n",
       "      <td>0.266100</td>\n",
       "      <td>0.093143</td>\n",
       "      <td>0.139860</td>\n",
       "      <td>0.206624</td>\n",
       "      <td>1.000000</td>\n",
       "      <td>0.596792</td>\n",
       "      <td>-0.140246</td>\n",
       "      <td>-0.402219</td>\n",
       "      <td>0.182457</td>\n",
       "      <td>-0.182457</td>\n",
       "      <td>0.301337</td>\n",
       "      <td>-0.062346</td>\n",
       "      <td>-0.250994</td>\n",
       "    </tr>\n",
       "    <tr>\n",
       "      <th>TICKET_CLASS__1</th>\n",
       "      <td>0.035551</td>\n",
       "      <td>0.297908</td>\n",
       "      <td>0.344976</td>\n",
       "      <td>-0.036512</td>\n",
       "      <td>-0.013514</td>\n",
       "      <td>0.596792</td>\n",
       "      <td>1.000000</td>\n",
       "      <td>-0.334442</td>\n",
       "      <td>-0.588670</td>\n",
       "      <td>0.107152</td>\n",
       "      <td>-0.107152</td>\n",
       "      <td>0.335545</td>\n",
       "      <td>-0.086426</td>\n",
       "      <td>-0.271535</td>\n",
       "    </tr>\n",
       "    <tr>\n",
       "      <th>TICKET_CLASS__2</th>\n",
       "      <td>-0.003142</td>\n",
       "      <td>0.086891</td>\n",
       "      <td>0.009214</td>\n",
       "      <td>-0.052570</td>\n",
       "      <td>-0.018558</td>\n",
       "      <td>-0.140246</td>\n",
       "      <td>-0.334442</td>\n",
       "      <td>1.000000</td>\n",
       "      <td>-0.564948</td>\n",
       "      <td>0.075347</td>\n",
       "      <td>-0.075347</td>\n",
       "      <td>-0.140605</td>\n",
       "      <td>-0.080929</td>\n",
       "      <td>0.168577</td>\n",
       "    </tr>\n",
       "    <tr>\n",
       "      <th>TICKET_CLASS__3</th>\n",
       "      <td>-0.028431</td>\n",
       "      <td>-0.335364</td>\n",
       "      <td>-0.309944</td>\n",
       "      <td>0.077060</td>\n",
       "      <td>0.027750</td>\n",
       "      <td>-0.402219</td>\n",
       "      <td>-0.588670</td>\n",
       "      <td>-0.564948</td>\n",
       "      <td>1.000000</td>\n",
       "      <td>-0.158446</td>\n",
       "      <td>0.158446</td>\n",
       "      <td>-0.173178</td>\n",
       "      <td>0.145087</td>\n",
       "      <td>0.093140</td>\n",
       "    </tr>\n",
       "    <tr>\n",
       "      <th>SEX__female</th>\n",
       "      <td>-0.024674</td>\n",
       "      <td>0.536762</td>\n",
       "      <td>-0.099037</td>\n",
       "      <td>0.106296</td>\n",
       "      <td>0.249543</td>\n",
       "      <td>0.182457</td>\n",
       "      <td>0.107152</td>\n",
       "      <td>0.075347</td>\n",
       "      <td>-0.158446</td>\n",
       "      <td>1.000000</td>\n",
       "      <td>-1.000000</td>\n",
       "      <td>0.103611</td>\n",
       "      <td>0.027256</td>\n",
       "      <td>-0.109078</td>\n",
       "    </tr>\n",
       "    <tr>\n",
       "      <th>SEX__male</th>\n",
       "      <td>0.024674</td>\n",
       "      <td>-0.536762</td>\n",
       "      <td>0.099037</td>\n",
       "      <td>-0.106296</td>\n",
       "      <td>-0.249543</td>\n",
       "      <td>-0.182457</td>\n",
       "      <td>-0.107152</td>\n",
       "      <td>-0.075347</td>\n",
       "      <td>0.158446</td>\n",
       "      <td>-1.000000</td>\n",
       "      <td>1.000000</td>\n",
       "      <td>-0.103611</td>\n",
       "      <td>-0.027256</td>\n",
       "      <td>0.109078</td>\n",
       "    </tr>\n",
       "    <tr>\n",
       "      <th>EMBARKED__C</th>\n",
       "      <td>0.008654</td>\n",
       "      <td>0.195673</td>\n",
       "      <td>0.038268</td>\n",
       "      <td>-0.046227</td>\n",
       "      <td>-0.009523</td>\n",
       "      <td>0.301337</td>\n",
       "      <td>0.335545</td>\n",
       "      <td>-0.140605</td>\n",
       "      <td>-0.173178</td>\n",
       "      <td>0.103611</td>\n",
       "      <td>-0.103611</td>\n",
       "      <td>1.000000</td>\n",
       "      <td>-0.095623</td>\n",
       "      <td>-0.884986</td>\n",
       "    </tr>\n",
       "    <tr>\n",
       "      <th>EMBARKED__Q</th>\n",
       "      <td>-0.027045</td>\n",
       "      <td>-0.048966</td>\n",
       "      <td>-0.021693</td>\n",
       "      <td>0.051331</td>\n",
       "      <td>-0.009417</td>\n",
       "      <td>-0.062346</td>\n",
       "      <td>-0.086426</td>\n",
       "      <td>-0.080929</td>\n",
       "      <td>0.145087</td>\n",
       "      <td>0.027256</td>\n",
       "      <td>-0.027256</td>\n",
       "      <td>-0.095623</td>\n",
       "      <td>1.000000</td>\n",
       "      <td>-0.378859</td>\n",
       "    </tr>\n",
       "    <tr>\n",
       "      <th>EMBARKED__S</th>\n",
       "      <td>0.004605</td>\n",
       "      <td>-0.159015</td>\n",
       "      <td>-0.025431</td>\n",
       "      <td>0.018968</td>\n",
       "      <td>0.013259</td>\n",
       "      <td>-0.250994</td>\n",
       "      <td>-0.271535</td>\n",
       "      <td>0.168577</td>\n",
       "      <td>0.093140</td>\n",
       "      <td>-0.109078</td>\n",
       "      <td>0.109078</td>\n",
       "      <td>-0.884986</td>\n",
       "      <td>-0.378859</td>\n",
       "      <td>1.000000</td>\n",
       "    </tr>\n",
       "  </tbody>\n",
       "</table>\n",
       "</div>"
      ],
      "text/plain": [
       "                          PASSENGER_ID  SURVIVED       AGE  \\\n",
       "PASSENGER_ID                  1.000000  0.029526  0.033681   \n",
       "SURVIVED                      0.029526  1.000000 -0.082446   \n",
       "AGE                           0.033681 -0.082446  1.000000   \n",
       "SIBLING_SPOUSE_ON_BOARD      -0.082704 -0.015523 -0.307351   \n",
       "PARENT_CHILDREN_ON_BOARD     -0.011672  0.095265 -0.187896   \n",
       "FARE                          0.009655  0.266100  0.093143   \n",
       "TICKET_CLASS__1               0.035551  0.297908  0.344976   \n",
       "TICKET_CLASS__2              -0.003142  0.086891  0.009214   \n",
       "TICKET_CLASS__3              -0.028431 -0.335364 -0.309944   \n",
       "SEX__female                  -0.024674  0.536762 -0.099037   \n",
       "SEX__male                     0.024674 -0.536762  0.099037   \n",
       "EMBARKED__C                   0.008654  0.195673  0.038268   \n",
       "EMBARKED__Q                  -0.027045 -0.048966 -0.021693   \n",
       "EMBARKED__S                   0.004605 -0.159015 -0.025431   \n",
       "\n",
       "                          SIBLING_SPOUSE_ON_BOARD  PARENT_CHILDREN_ON_BOARD  \\\n",
       "PASSENGER_ID                            -0.082704                 -0.011672   \n",
       "SURVIVED                                -0.015523                  0.095265   \n",
       "AGE                                     -0.307351                 -0.187896   \n",
       "SIBLING_SPOUSE_ON_BOARD                  1.000000                  0.383338   \n",
       "PARENT_CHILDREN_ON_BOARD                 0.383338                  1.000000   \n",
       "FARE                                     0.139860                  0.206624   \n",
       "TICKET_CLASS__1                         -0.036512                 -0.013514   \n",
       "TICKET_CLASS__2                         -0.052570                 -0.018558   \n",
       "TICKET_CLASS__3                          0.077060                  0.027750   \n",
       "SEX__female                              0.106296                  0.249543   \n",
       "SEX__male                               -0.106296                 -0.249543   \n",
       "EMBARKED__C                             -0.046227                 -0.009523   \n",
       "EMBARKED__Q                              0.051331                 -0.009417   \n",
       "EMBARKED__S                              0.018968                  0.013259   \n",
       "\n",
       "                              FARE  TICKET_CLASS__1  TICKET_CLASS__2  \\\n",
       "PASSENGER_ID              0.009655         0.035551        -0.003142   \n",
       "SURVIVED                  0.266100         0.297908         0.086891   \n",
       "AGE                       0.093143         0.344976         0.009214   \n",
       "SIBLING_SPOUSE_ON_BOARD   0.139860        -0.036512        -0.052570   \n",
       "PARENT_CHILDREN_ON_BOARD  0.206624        -0.013514        -0.018558   \n",
       "FARE                      1.000000         0.596792        -0.140246   \n",
       "TICKET_CLASS__1           0.596792         1.000000        -0.334442   \n",
       "TICKET_CLASS__2          -0.140246        -0.334442         1.000000   \n",
       "TICKET_CLASS__3          -0.402219        -0.588670        -0.564948   \n",
       "SEX__female               0.182457         0.107152         0.075347   \n",
       "SEX__male                -0.182457        -0.107152        -0.075347   \n",
       "EMBARKED__C               0.301337         0.335545        -0.140605   \n",
       "EMBARKED__Q              -0.062346        -0.086426        -0.080929   \n",
       "EMBARKED__S              -0.250994        -0.271535         0.168577   \n",
       "\n",
       "                          TICKET_CLASS__3  SEX__female  SEX__male  \\\n",
       "PASSENGER_ID                    -0.028431    -0.024674   0.024674   \n",
       "SURVIVED                        -0.335364     0.536762  -0.536762   \n",
       "AGE                             -0.309944    -0.099037   0.099037   \n",
       "SIBLING_SPOUSE_ON_BOARD          0.077060     0.106296  -0.106296   \n",
       "PARENT_CHILDREN_ON_BOARD         0.027750     0.249543  -0.249543   \n",
       "FARE                            -0.402219     0.182457  -0.182457   \n",
       "TICKET_CLASS__1                 -0.588670     0.107152  -0.107152   \n",
       "TICKET_CLASS__2                 -0.564948     0.075347  -0.075347   \n",
       "TICKET_CLASS__3                  1.000000    -0.158446   0.158446   \n",
       "SEX__female                     -0.158446     1.000000  -1.000000   \n",
       "SEX__male                        0.158446    -1.000000   1.000000   \n",
       "EMBARKED__C                     -0.173178     0.103611  -0.103611   \n",
       "EMBARKED__Q                      0.145087     0.027256  -0.027256   \n",
       "EMBARKED__S                      0.093140    -0.109078   0.109078   \n",
       "\n",
       "                          EMBARKED__C  EMBARKED__Q  EMBARKED__S  \n",
       "PASSENGER_ID                 0.008654    -0.027045     0.004605  \n",
       "SURVIVED                     0.195673    -0.048966    -0.159015  \n",
       "AGE                          0.038268    -0.021693    -0.025431  \n",
       "SIBLING_SPOUSE_ON_BOARD     -0.046227     0.051331     0.018968  \n",
       "PARENT_CHILDREN_ON_BOARD    -0.009523    -0.009417     0.013259  \n",
       "FARE                         0.301337    -0.062346    -0.250994  \n",
       "TICKET_CLASS__1              0.335545    -0.086426    -0.271535  \n",
       "TICKET_CLASS__2             -0.140605    -0.080929     0.168577  \n",
       "TICKET_CLASS__3             -0.173178     0.145087     0.093140  \n",
       "SEX__female                  0.103611     0.027256    -0.109078  \n",
       "SEX__male                   -0.103611    -0.027256     0.109078  \n",
       "EMBARKED__C                  1.000000    -0.095623    -0.884986  \n",
       "EMBARKED__Q                 -0.095623     1.000000    -0.378859  \n",
       "EMBARKED__S                 -0.884986    -0.378859     1.000000  "
      ]
     },
     "metadata": {},
     "output_type": "display_data"
    }
   ],
   "source": [
    "corr = df.corr()\n",
    "display(corr)"
   ]
  },
  {
   "cell_type": "code",
   "execution_count": 9,
   "id": "athletic-psychology",
   "metadata": {
    "ExecuteTime": {
     "end_time": "2021-04-15T15:48:14.720569Z",
     "start_time": "2021-04-15T15:48:14.346779Z"
    },
    "extensions": {
     "jupyter_dashboards": {
      "version": 1,
      "views": {
       "grid_default": {},
       "report_default": {
        "hidden": false
       }
      }
     }
    }
   },
   "outputs": [
    {
     "data": {
      "text/plain": [
       "<AxesSubplot:>"
      ]
     },
     "execution_count": 9,
     "metadata": {},
     "output_type": "execute_result"
    },
    {
     "data": {
      "image/png": "[encoded data removed]",
      "text/plain": [
       "<Figure size 432x288 with 2 Axes>"
      ]
     },
     "metadata": {
      "needs_background": "light"
     },
     "output_type": "display_data"
    }
   ],
   "source": [
    "sns.heatmap(corr)"
   ]
  },
  {
   "cell_type": "code",
   "execution_count": 10,
   "id": "grave-apartment",
   "metadata": {
    "ExecuteTime": {
     "end_time": "2021-04-15T15:48:54.695274Z",
     "start_time": "2021-04-15T15:48:14.721647Z"
    },
    "extensions": {
     "jupyter_dashboards": {
      "version": 1,
      "views": {
       "grid_default": {},
       "report_default": {
        "hidden": false
       }
      }
     }
    }
   },
   "outputs": [
    {
     "data": {
      "text/plain": [
       "<seaborn.axisgrid.PairGrid at 0x20d9fb69f10>"
      ]
     },
     "execution_count": 10,
     "metadata": {},
     "output_type": "execute_result"
    },
    {
     "data": {
      "image/png": "[encoded data removed]",
      "text/plain": [
       "<Figure size 2520x2520 with 210 Axes>"
      ]
     },
     "metadata": {
      "needs_background": "light"
     },
     "output_type": "display_data"
    }
   ],
   "source": [
    "sns.pairplot(df, kind = \"hist\")"
   ]
  },
  {
   "cell_type": "code",
   "execution_count": 11,
   "id": "important-courage",
   "metadata": {
    "ExecuteTime": {
     "end_time": "2021-04-15T15:48:54.742391Z",
     "start_time": "2021-04-15T15:48:54.695274Z"
    },
    "extensions": {
     "jupyter_dashboards": {
      "version": 1,
      "views": {
       "grid_default": {},
       "report_default": {
        "hidden": false
       }
      }
     }
    }
   },
   "outputs": [
    {
     "data": {
      "text/html": [
       "<div>\n",
       "<style scoped>\n",
       "    .dataframe tbody tr th:only-of-type {\n",
       "        vertical-align: middle;\n",
       "    }\n",
       "\n",
       "    .dataframe tbody tr th {\n",
       "        vertical-align: top;\n",
       "    }\n",
       "\n",
       "    .dataframe thead th {\n",
       "        text-align: right;\n",
       "    }\n",
       "</style>\n",
       "<table border=\"1\" class=\"dataframe\">\n",
       "  <thead>\n",
       "    <tr style=\"text-align: right;\">\n",
       "      <th></th>\n",
       "      <th>PASSENGER_ID</th>\n",
       "      <th>SURVIVED</th>\n",
       "      <th>AGE</th>\n",
       "      <th>SIBLING_SPOUSE_ON_BOARD</th>\n",
       "      <th>PARENT_CHILDREN_ON_BOARD</th>\n",
       "      <th>FARE</th>\n",
       "      <th>TICKET_CLASS__1</th>\n",
       "      <th>TICKET_CLASS__2</th>\n",
       "      <th>TICKET_CLASS__3</th>\n",
       "      <th>SEX__female</th>\n",
       "      <th>SEX__male</th>\n",
       "      <th>EMBARKED__C</th>\n",
       "      <th>EMBARKED__Q</th>\n",
       "      <th>EMBARKED__S</th>\n",
       "    </tr>\n",
       "  </thead>\n",
       "  <tbody>\n",
       "    <tr>\n",
       "      <th>0</th>\n",
       "      <td>1</td>\n",
       "      <td>0</td>\n",
       "      <td>22.0</td>\n",
       "      <td>1</td>\n",
       "      <td>0</td>\n",
       "      <td>7.2500</td>\n",
       "      <td>0</td>\n",
       "      <td>0</td>\n",
       "      <td>1</td>\n",
       "      <td>0</td>\n",
       "      <td>1</td>\n",
       "      <td>0</td>\n",
       "      <td>0</td>\n",
       "      <td>1</td>\n",
       "    </tr>\n",
       "    <tr>\n",
       "      <th>1</th>\n",
       "      <td>2</td>\n",
       "      <td>1</td>\n",
       "      <td>38.0</td>\n",
       "      <td>1</td>\n",
       "      <td>0</td>\n",
       "      <td>71.2833</td>\n",
       "      <td>1</td>\n",
       "      <td>0</td>\n",
       "      <td>0</td>\n",
       "      <td>1</td>\n",
       "      <td>0</td>\n",
       "      <td>1</td>\n",
       "      <td>0</td>\n",
       "      <td>0</td>\n",
       "    </tr>\n",
       "    <tr>\n",
       "      <th>2</th>\n",
       "      <td>3</td>\n",
       "      <td>1</td>\n",
       "      <td>26.0</td>\n",
       "      <td>0</td>\n",
       "      <td>0</td>\n",
       "      <td>7.9250</td>\n",
       "      <td>0</td>\n",
       "      <td>0</td>\n",
       "      <td>1</td>\n",
       "      <td>1</td>\n",
       "      <td>0</td>\n",
       "      <td>0</td>\n",
       "      <td>0</td>\n",
       "      <td>1</td>\n",
       "    </tr>\n",
       "    <tr>\n",
       "      <th>3</th>\n",
       "      <td>4</td>\n",
       "      <td>1</td>\n",
       "      <td>35.0</td>\n",
       "      <td>1</td>\n",
       "      <td>0</td>\n",
       "      <td>53.1000</td>\n",
       "      <td>1</td>\n",
       "      <td>0</td>\n",
       "      <td>0</td>\n",
       "      <td>1</td>\n",
       "      <td>0</td>\n",
       "      <td>0</td>\n",
       "      <td>0</td>\n",
       "      <td>1</td>\n",
       "    </tr>\n",
       "    <tr>\n",
       "      <th>4</th>\n",
       "      <td>5</td>\n",
       "      <td>0</td>\n",
       "      <td>35.0</td>\n",
       "      <td>0</td>\n",
       "      <td>0</td>\n",
       "      <td>8.0500</td>\n",
       "      <td>0</td>\n",
       "      <td>0</td>\n",
       "      <td>1</td>\n",
       "      <td>0</td>\n",
       "      <td>1</td>\n",
       "      <td>0</td>\n",
       "      <td>0</td>\n",
       "      <td>1</td>\n",
       "    </tr>\n",
       "    <tr>\n",
       "      <th>6</th>\n",
       "      <td>7</td>\n",
       "      <td>0</td>\n",
       "      <td>54.0</td>\n",
       "      <td>0</td>\n",
       "      <td>0</td>\n",
       "      <td>51.8625</td>\n",
       "      <td>1</td>\n",
       "      <td>0</td>\n",
       "      <td>0</td>\n",
       "      <td>0</td>\n",
       "      <td>1</td>\n",
       "      <td>0</td>\n",
       "      <td>0</td>\n",
       "      <td>1</td>\n",
       "    </tr>\n",
       "    <tr>\n",
       "      <th>7</th>\n",
       "      <td>8</td>\n",
       "      <td>0</td>\n",
       "      <td>2.0</td>\n",
       "      <td>3</td>\n",
       "      <td>1</td>\n",
       "      <td>21.0750</td>\n",
       "      <td>0</td>\n",
       "      <td>0</td>\n",
       "      <td>1</td>\n",
       "      <td>0</td>\n",
       "      <td>1</td>\n",
       "      <td>0</td>\n",
       "      <td>0</td>\n",
       "      <td>1</td>\n",
       "    </tr>\n",
       "    <tr>\n",
       "      <th>8</th>\n",
       "      <td>9</td>\n",
       "      <td>1</td>\n",
       "      <td>27.0</td>\n",
       "      <td>0</td>\n",
       "      <td>2</td>\n",
       "      <td>11.1333</td>\n",
       "      <td>0</td>\n",
       "      <td>0</td>\n",
       "      <td>1</td>\n",
       "      <td>1</td>\n",
       "      <td>0</td>\n",
       "      <td>0</td>\n",
       "      <td>0</td>\n",
       "      <td>1</td>\n",
       "    </tr>\n",
       "    <tr>\n",
       "      <th>9</th>\n",
       "      <td>10</td>\n",
       "      <td>1</td>\n",
       "      <td>14.0</td>\n",
       "      <td>1</td>\n",
       "      <td>0</td>\n",
       "      <td>30.0708</td>\n",
       "      <td>0</td>\n",
       "      <td>1</td>\n",
       "      <td>0</td>\n",
       "      <td>1</td>\n",
       "      <td>0</td>\n",
       "      <td>1</td>\n",
       "      <td>0</td>\n",
       "      <td>0</td>\n",
       "    </tr>\n",
       "    <tr>\n",
       "      <th>10</th>\n",
       "      <td>11</td>\n",
       "      <td>1</td>\n",
       "      <td>4.0</td>\n",
       "      <td>1</td>\n",
       "      <td>1</td>\n",
       "      <td>16.7000</td>\n",
       "      <td>0</td>\n",
       "      <td>0</td>\n",
       "      <td>1</td>\n",
       "      <td>1</td>\n",
       "      <td>0</td>\n",
       "      <td>0</td>\n",
       "      <td>0</td>\n",
       "      <td>1</td>\n",
       "    </tr>\n",
       "    <tr>\n",
       "      <th>11</th>\n",
       "      <td>12</td>\n",
       "      <td>1</td>\n",
       "      <td>58.0</td>\n",
       "      <td>0</td>\n",
       "      <td>0</td>\n",
       "      <td>26.5500</td>\n",
       "      <td>1</td>\n",
       "      <td>0</td>\n",
       "      <td>0</td>\n",
       "      <td>1</td>\n",
       "      <td>0</td>\n",
       "      <td>0</td>\n",
       "      <td>0</td>\n",
       "      <td>1</td>\n",
       "    </tr>\n",
       "    <tr>\n",
       "      <th>12</th>\n",
       "      <td>13</td>\n",
       "      <td>0</td>\n",
       "      <td>20.0</td>\n",
       "      <td>0</td>\n",
       "      <td>0</td>\n",
       "      <td>8.0500</td>\n",
       "      <td>0</td>\n",
       "      <td>0</td>\n",
       "      <td>1</td>\n",
       "      <td>0</td>\n",
       "      <td>1</td>\n",
       "      <td>0</td>\n",
       "      <td>0</td>\n",
       "      <td>1</td>\n",
       "    </tr>\n",
       "    <tr>\n",
       "      <th>13</th>\n",
       "      <td>14</td>\n",
       "      <td>0</td>\n",
       "      <td>39.0</td>\n",
       "      <td>1</td>\n",
       "      <td>5</td>\n",
       "      <td>31.2750</td>\n",
       "      <td>0</td>\n",
       "      <td>0</td>\n",
       "      <td>1</td>\n",
       "      <td>0</td>\n",
       "      <td>1</td>\n",
       "      <td>0</td>\n",
       "      <td>0</td>\n",
       "      <td>1</td>\n",
       "    </tr>\n",
       "    <tr>\n",
       "      <th>14</th>\n",
       "      <td>15</td>\n",
       "      <td>0</td>\n",
       "      <td>14.0</td>\n",
       "      <td>0</td>\n",
       "      <td>0</td>\n",
       "      <td>7.8542</td>\n",
       "      <td>0</td>\n",
       "      <td>0</td>\n",
       "      <td>1</td>\n",
       "      <td>1</td>\n",
       "      <td>0</td>\n",
       "      <td>0</td>\n",
       "      <td>0</td>\n",
       "      <td>1</td>\n",
       "    </tr>\n",
       "    <tr>\n",
       "      <th>15</th>\n",
       "      <td>16</td>\n",
       "      <td>1</td>\n",
       "      <td>55.0</td>\n",
       "      <td>0</td>\n",
       "      <td>0</td>\n",
       "      <td>16.0000</td>\n",
       "      <td>0</td>\n",
       "      <td>1</td>\n",
       "      <td>0</td>\n",
       "      <td>1</td>\n",
       "      <td>0</td>\n",
       "      <td>0</td>\n",
       "      <td>0</td>\n",
       "      <td>1</td>\n",
       "    </tr>\n",
       "    <tr>\n",
       "      <th>16</th>\n",
       "      <td>17</td>\n",
       "      <td>0</td>\n",
       "      <td>2.0</td>\n",
       "      <td>4</td>\n",
       "      <td>1</td>\n",
       "      <td>29.1250</td>\n",
       "      <td>0</td>\n",
       "      <td>0</td>\n",
       "      <td>1</td>\n",
       "      <td>0</td>\n",
       "      <td>1</td>\n",
       "      <td>0</td>\n",
       "      <td>1</td>\n",
       "      <td>0</td>\n",
       "    </tr>\n",
       "    <tr>\n",
       "      <th>18</th>\n",
       "      <td>19</td>\n",
       "      <td>0</td>\n",
       "      <td>31.0</td>\n",
       "      <td>1</td>\n",
       "      <td>0</td>\n",
       "      <td>18.0000</td>\n",
       "      <td>0</td>\n",
       "      <td>0</td>\n",
       "      <td>1</td>\n",
       "      <td>1</td>\n",
       "      <td>0</td>\n",
       "      <td>0</td>\n",
       "      <td>0</td>\n",
       "      <td>1</td>\n",
       "    </tr>\n",
       "    <tr>\n",
       "      <th>20</th>\n",
       "      <td>21</td>\n",
       "      <td>0</td>\n",
       "      <td>35.0</td>\n",
       "      <td>0</td>\n",
       "      <td>0</td>\n",
       "      <td>26.0000</td>\n",
       "      <td>0</td>\n",
       "      <td>1</td>\n",
       "      <td>0</td>\n",
       "      <td>0</td>\n",
       "      <td>1</td>\n",
       "      <td>0</td>\n",
       "      <td>0</td>\n",
       "      <td>1</td>\n",
       "    </tr>\n",
       "    <tr>\n",
       "      <th>21</th>\n",
       "      <td>22</td>\n",
       "      <td>1</td>\n",
       "      <td>34.0</td>\n",
       "      <td>0</td>\n",
       "      <td>0</td>\n",
       "      <td>13.0000</td>\n",
       "      <td>0</td>\n",
       "      <td>1</td>\n",
       "      <td>0</td>\n",
       "      <td>0</td>\n",
       "      <td>1</td>\n",
       "      <td>0</td>\n",
       "      <td>0</td>\n",
       "      <td>1</td>\n",
       "    </tr>\n",
       "    <tr>\n",
       "      <th>22</th>\n",
       "      <td>23</td>\n",
       "      <td>1</td>\n",
       "      <td>15.0</td>\n",
       "      <td>0</td>\n",
       "      <td>0</td>\n",
       "      <td>8.0292</td>\n",
       "      <td>0</td>\n",
       "      <td>0</td>\n",
       "      <td>1</td>\n",
       "      <td>1</td>\n",
       "      <td>0</td>\n",
       "      <td>0</td>\n",
       "      <td>1</td>\n",
       "      <td>0</td>\n",
       "    </tr>\n",
       "    <tr>\n",
       "      <th>23</th>\n",
       "      <td>24</td>\n",
       "      <td>1</td>\n",
       "      <td>28.0</td>\n",
       "      <td>0</td>\n",
       "      <td>0</td>\n",
       "      <td>35.5000</td>\n",
       "      <td>1</td>\n",
       "      <td>0</td>\n",
       "      <td>0</td>\n",
       "      <td>0</td>\n",
       "      <td>1</td>\n",
       "      <td>0</td>\n",
       "      <td>0</td>\n",
       "      <td>1</td>\n",
       "    </tr>\n",
       "    <tr>\n",
       "      <th>24</th>\n",
       "      <td>25</td>\n",
       "      <td>0</td>\n",
       "      <td>8.0</td>\n",
       "      <td>3</td>\n",
       "      <td>1</td>\n",
       "      <td>21.0750</td>\n",
       "      <td>0</td>\n",
       "      <td>0</td>\n",
       "      <td>1</td>\n",
       "      <td>1</td>\n",
       "      <td>0</td>\n",
       "      <td>0</td>\n",
       "      <td>0</td>\n",
       "      <td>1</td>\n",
       "    </tr>\n",
       "    <tr>\n",
       "      <th>25</th>\n",
       "      <td>26</td>\n",
       "      <td>1</td>\n",
       "      <td>38.0</td>\n",
       "      <td>1</td>\n",
       "      <td>5</td>\n",
       "      <td>31.3875</td>\n",
       "      <td>0</td>\n",
       "      <td>0</td>\n",
       "      <td>1</td>\n",
       "      <td>1</td>\n",
       "      <td>0</td>\n",
       "      <td>0</td>\n",
       "      <td>0</td>\n",
       "      <td>1</td>\n",
       "    </tr>\n",
       "    <tr>\n",
       "      <th>27</th>\n",
       "      <td>28</td>\n",
       "      <td>0</td>\n",
       "      <td>19.0</td>\n",
       "      <td>3</td>\n",
       "      <td>2</td>\n",
       "      <td>263.0000</td>\n",
       "      <td>1</td>\n",
       "      <td>0</td>\n",
       "      <td>0</td>\n",
       "      <td>0</td>\n",
       "      <td>1</td>\n",
       "      <td>0</td>\n",
       "      <td>0</td>\n",
       "      <td>1</td>\n",
       "    </tr>\n",
       "    <tr>\n",
       "      <th>30</th>\n",
       "      <td>31</td>\n",
       "      <td>0</td>\n",
       "      <td>40.0</td>\n",
       "      <td>0</td>\n",
       "      <td>0</td>\n",
       "      <td>27.7208</td>\n",
       "      <td>1</td>\n",
       "      <td>0</td>\n",
       "      <td>0</td>\n",
       "      <td>0</td>\n",
       "      <td>1</td>\n",
       "      <td>1</td>\n",
       "      <td>0</td>\n",
       "      <td>0</td>\n",
       "    </tr>\n",
       "  </tbody>\n",
       "</table>\n",
       "</div>"
      ],
      "text/plain": [
       "    PASSENGER_ID  SURVIVED   AGE  SIBLING_SPOUSE_ON_BOARD  \\\n",
       "0              1         0  22.0                        1   \n",
       "1              2         1  38.0                        1   \n",
       "2              3         1  26.0                        0   \n",
       "3              4         1  35.0                        1   \n",
       "4              5         0  35.0                        0   \n",
       "6              7         0  54.0                        0   \n",
       "7              8         0   2.0                        3   \n",
       "8              9         1  27.0                        0   \n",
       "9             10         1  14.0                        1   \n",
       "10            11         1   4.0                        1   \n",
       "11            12         1  58.0                        0   \n",
       "12            13         0  20.0                        0   \n",
       "13            14         0  39.0                        1   \n",
       "14            15         0  14.0                        0   \n",
       "15            16         1  55.0                        0   \n",
       "16            17         0   2.0                        4   \n",
       "18            19         0  31.0                        1   \n",
       "20            21         0  35.0                        0   \n",
       "21            22         1  34.0                        0   \n",
       "22            23         1  15.0                        0   \n",
       "23            24         1  28.0                        0   \n",
       "24            25         0   8.0                        3   \n",
       "25            26         1  38.0                        1   \n",
       "27            28         0  19.0                        3   \n",
       "30            31         0  40.0                        0   \n",
       "\n",
       "    PARENT_CHILDREN_ON_BOARD      FARE  TICKET_CLASS__1  TICKET_CLASS__2  \\\n",
       "0                          0    7.2500                0                0   \n",
       "1                          0   71.2833                1                0   \n",
       "2                          0    7.9250                0                0   \n",
       "3                          0   53.1000                1                0   \n",
       "4                          0    8.0500                0                0   \n",
       "6                          0   51.8625                1                0   \n",
       "7                          1   21.0750                0                0   \n",
       "8                          2   11.1333                0                0   \n",
       "9                          0   30.0708                0                1   \n",
       "10                         1   16.7000                0                0   \n",
       "11                         0   26.5500                1                0   \n",
       "12                         0    8.0500                0                0   \n",
       "13                         5   31.2750                0                0   \n",
       "14                         0    7.8542                0                0   \n",
       "15                         0   16.0000                0                1   \n",
       "16                         1   29.1250                0                0   \n",
       "18                         0   18.0000                0                0   \n",
       "20                         0   26.0000                0                1   \n",
       "21                         0   13.0000                0                1   \n",
       "22                         0    8.0292                0                0   \n",
       "23                         0   35.5000                1                0   \n",
       "24                         1   21.0750                0                0   \n",
       "25                         5   31.3875                0                0   \n",
       "27                         2  263.0000                1                0   \n",
       "30                         0   27.7208                1                0   \n",
       "\n",
       "    TICKET_CLASS__3  SEX__female  SEX__male  EMBARKED__C  EMBARKED__Q  \\\n",
       "0                 1            0          1            0            0   \n",
       "1                 0            1          0            1            0   \n",
       "2                 1            1          0            0            0   \n",
       "3                 0            1          0            0            0   \n",
       "4                 1            0          1            0            0   \n",
       "6                 0            0          1            0            0   \n",
       "7                 1            0          1            0            0   \n",
       "8                 1            1          0            0            0   \n",
       "9                 0            1          0            1            0   \n",
       "10                1            1          0            0            0   \n",
       "11                0            1          0            0            0   \n",
       "12                1            0          1            0            0   \n",
       "13                1            0          1            0            0   \n",
       "14                1            1          0            0            0   \n",
       "15                0            1          0            0            0   \n",
       "16                1            0          1            0            1   \n",
       "18                1            1          0            0            0   \n",
       "20                0            0          1            0            0   \n",
       "21                0            0          1            0            0   \n",
       "22                1            1          0            0            1   \n",
       "23                0            0          1            0            0   \n",
       "24                1            1          0            0            0   \n",
       "25                1            1          0            0            0   \n",
       "27                0            0          1            0            0   \n",
       "30                0            0          1            1            0   \n",
       "\n",
       "    EMBARKED__S  \n",
       "0             1  \n",
       "1             0  \n",
       "2             1  \n",
       "3             1  \n",
       "4             1  \n",
       "6             1  \n",
       "7             1  \n",
       "8             1  \n",
       "9             0  \n",
       "10            1  \n",
       "11            1  \n",
       "12            1  \n",
       "13            1  \n",
       "14            1  \n",
       "15            1  \n",
       "16            0  \n",
       "18            1  \n",
       "20            1  \n",
       "21            1  \n",
       "22            0  \n",
       "23            1  \n",
       "24            1  \n",
       "25            1  \n",
       "27            1  \n",
       "30            0  "
      ]
     },
     "execution_count": 11,
     "metadata": {},
     "output_type": "execute_result"
    }
   ],
   "source": [
    "df.head(25)"
   ]
  },
  {
   "cell_type": "code",
   "execution_count": 12,
   "id": "expired-christian",
   "metadata": {
    "ExecuteTime": {
     "end_time": "2021-04-15T15:48:54.757466Z",
     "start_time": "2021-04-15T15:48:54.743383Z"
    },
    "extensions": {
     "jupyter_dashboards": {
      "version": 1,
      "views": {
       "grid_default": {},
       "report_default": {
        "hidden": true
       }
      }
     }
    }
   },
   "outputs": [],
   "source": [
    "X = df.values\n",
    "y = df['SURVIVED'].values"
   ]
  },
  {
   "cell_type": "code",
   "execution_count": 13,
   "id": "naval-cannon",
   "metadata": {
    "ExecuteTime": {
     "end_time": "2021-04-15T15:48:54.774193Z",
     "start_time": "2021-04-15T15:48:54.758465Z"
    },
    "extensions": {
     "jupyter_dashboards": {
      "version": 1,
      "views": {
       "grid_default": {},
       "report_default": {
        "hidden": true
       }
      }
     }
    }
   },
   "outputs": [],
   "source": [
    "X = np.delete(X, 1, axis = 1)"
   ]
  },
  {
   "cell_type": "code",
   "execution_count": 14,
   "id": "favorite-warrior",
   "metadata": {
    "ExecuteTime": {
     "end_time": "2021-04-15T15:48:54.789821Z",
     "start_time": "2021-04-15T15:48:54.774193Z"
    },
    "extensions": {
     "jupyter_dashboards": {
      "version": 1,
      "views": {
       "grid_default": {},
       "report_default": {
        "hidden": true
       }
      }
     }
    }
   },
   "outputs": [],
   "source": [
    "X_train, X_test, y_train, y_test = train_test_split(X, y, test_size = 0.3, random_state = 0)"
   ]
  },
  {
   "cell_type": "code",
   "execution_count": 15,
   "id": "future-telescope",
   "metadata": {
    "ExecuteTime": {
     "end_time": "2021-04-15T15:48:54.805345Z",
     "start_time": "2021-04-15T15:48:54.789821Z"
    },
    "extensions": {
     "jupyter_dashboards": {
      "version": 1,
      "views": {
       "grid_default": {},
       "report_default": {
        "hidden": false
       }
      }
     }
    }
   },
   "outputs": [
    {
     "data": {
      "text/markdown": [
       "[ DecisionTreeClassifier ] Predicition score : "
      ],
      "text/plain": [
       "<IPython.core.display.Markdown object>"
      ]
     },
     "metadata": {},
     "output_type": "display_data"
    },
    {
     "data": {
      "text/plain": [
       "76.16822429906543"
      ]
     },
     "metadata": {},
     "output_type": "display_data"
    }
   ],
   "source": [
    "clf = tree.DecisionTreeClassifier(max_depth = 5)\n",
    "clf.fit(X_train, y_train)\n",
    "Score = clf.score(X_test ,y_test)\n",
    "display(Markdown('[ DecisionTreeClassifier ] Predicition score : '), Score * 100)"
   ]
  },
  {
   "cell_type": "code",
   "execution_count": 16,
   "id": "running-divorce",
   "metadata": {
    "ExecuteTime": {
     "end_time": "2021-04-15T15:48:55.199639Z",
     "start_time": "2021-04-15T15:48:54.805345Z"
    },
    "extensions": {
     "jupyter_dashboards": {
      "version": 1,
      "views": {
       "grid_default": {},
       "report_default": {
        "hidden": false
       }
      }
     }
    }
   },
   "outputs": [
    {
     "data": {
      "text/markdown": [
       "[ RandomForestClassifier with 100 estimators ] Predicition score : "
      ],
      "text/plain": [
       "<IPython.core.display.Markdown object>"
      ]
     },
     "metadata": {},
     "output_type": "display_data"
    },
    {
     "data": {
      "text/plain": [
       "77.57009345794393"
      ]
     },
     "metadata": {},
     "output_type": "display_data"
    }
   ],
   "source": [
    "clf = ensemble.RandomForestClassifier(n_estimators = 100)\n",
    "clf.fit (X_train, y_train)\n",
    "Score = clf.score (X_test, y_test)\n",
    "display(Markdown('[ RandomForestClassifier with 100 estimators ] Predicition score : '), Score * 100)"
   ]
  },
  {
   "cell_type": "code",
   "execution_count": 17,
   "id": "nasty-pressing",
   "metadata": {
    "ExecuteTime": {
     "end_time": "2021-04-15T15:48:55.447748Z",
     "start_time": "2021-04-15T15:48:55.201643Z"
    },
    "extensions": {
     "jupyter_dashboards": {
      "version": 1,
      "views": {
       "grid_default": {},
       "report_default": {
        "hidden": false
       }
      }
     }
    }
   },
   "outputs": [
    {
     "data": {
      "text/markdown": [
       "[ GradientBoostingClassifier ] Predicition score : "
      ],
      "text/plain": [
       "<IPython.core.display.Markdown object>"
      ]
     },
     "metadata": {},
     "output_type": "display_data"
    },
    {
     "data": {
      "text/plain": [
       "80.37383177570094"
      ]
     },
     "metadata": {},
     "output_type": "display_data"
    }
   ],
   "source": [
    "clf = ensemble.GradientBoostingClassifier()\n",
    "clf.fit (X_train, y_train)\n",
    "Score = clf.score (X_test, y_test)\n",
    "display(Markdown('[ GradientBoostingClassifier ] Predicition score : '), Score * 100)"
   ]
  },
  {
   "cell_type": "code",
   "execution_count": 18,
   "id": "remarkable-picnic",
   "metadata": {
    "ExecuteTime": {
     "end_time": "2021-04-15T15:48:55.683546Z",
     "start_time": "2021-04-15T15:48:55.448628Z"
    },
    "extensions": {
     "jupyter_dashboards": {
      "version": 1,
      "views": {
       "grid_default": {},
       "report_default": {
        "hidden": false
       }
      }
     }
    }
   },
   "outputs": [
    {
     "data": {
      "text/markdown": [
       "[ GradientBoostingClassifier with 50 estimators ] Predicition score : "
      ],
      "text/plain": [
       "<IPython.core.display.Markdown object>"
      ]
     },
     "metadata": {},
     "output_type": "display_data"
    },
    {
     "data": {
      "text/plain": [
       "80.37383177570094"
      ]
     },
     "metadata": {},
     "output_type": "display_data"
    }
   ],
   "source": [
    "clf = ensemble.GradientBoostingClassifier(n_estimators = 100)\n",
    "clf.fit(X_train, y_train)\n",
    "Score = clf.score(X_test, y_test)\n",
    "display(Markdown('[ GradientBoostingClassifier with 50 estimators ] Predicition score : '), Score * 100)"
   ]
  }
 ],
 "metadata": {
  "extensions": {
   "jupyter_dashboards": {
    "activeView": "report_default",
    "version": 1,
    "views": {
     "grid_default": {
      "cellMargin": 10,
      "defaultCellHeight": 20,
      "maxColumns": 12,
      "name": "grid",
      "type": "grid"
     },
     "report_default": {
      "name": "report",
      "type": "report"
     }
    }
   }
  },
  "kernelspec": {
   "display_name": "Python 3",
   "language": "python",
   "name": "python3"
  },
  "language_info": {
   "codemirror_mode": {
    "name": "ipython",
    "version": 3
   },
   "file_extension": ".py",
   "mimetype": "text/x-python",
   "name": "python",
   "nbconvert_exporter": "python",
   "pygments_lexer": "ipython3",
   "version": "3.8.8"
  }
 },
 "nbformat": 4,
 "nbformat_minor": 5
}
